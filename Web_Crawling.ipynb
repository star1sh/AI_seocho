{
  "nbformat": 4,
  "nbformat_minor": 0,
  "metadata": {
    "colab": {
      "provenance": [],
      "include_colab_link": true
    },
    "kernelspec": {
      "name": "python3",
      "display_name": "Python 3"
    },
    "language_info": {
      "name": "python"
    }
  },
  "cells": [
    {
      "cell_type": "markdown",
      "metadata": {
        "id": "view-in-github",
        "colab_type": "text"
      },
      "source": [
        "<a href=\"https://colab.research.google.com/github/star1sh/AI_seocho/blob/main/Web_Crawling.ipynb\" target=\"_parent\"><img src=\"https://colab.research.google.com/assets/colab-badge.svg\" alt=\"Open In Colab\"/></a>"
      ]
    },
    {
      "cell_type": "code",
      "execution_count": null,
      "metadata": {
        "colab": {
          "base_uri": "https://localhost:8080/"
        },
        "id": "sXeTSTL3SZHI",
        "outputId": "7e4b2e87-43d0-49d1-f304-101af0228dab"
      },
      "outputs": [
        {
          "output_type": "stream",
          "name": "stdout",
          "text": [
            "Looking in indexes: https://pypi.org/simple, https://us-python.pkg.dev/colab-wheels/public/simple/\n",
            "Requirement already satisfied: beautifulsoup4 in /usr/local/lib/python3.10/dist-packages (4.11.2)\n",
            "Requirement already satisfied: soupsieve>1.2 in /usr/local/lib/python3.10/dist-packages (from beautifulsoup4) (2.4.1)\n"
          ]
        }
      ],
      "source": [
        "pip install beautifulsoup4"
      ]
    },
    {
      "cell_type": "code",
      "source": [
        "pip install requests"
      ],
      "metadata": {
        "colab": {
          "base_uri": "https://localhost:8080/"
        },
        "id": "55PzHPVCSfym",
        "outputId": "743e5c6f-02ce-482c-d44f-d6bb1e54f18d"
      },
      "execution_count": null,
      "outputs": [
        {
          "output_type": "stream",
          "name": "stdout",
          "text": [
            "Looking in indexes: https://pypi.org/simple, https://us-python.pkg.dev/colab-wheels/public/simple/\n",
            "\u001b[31mERROR: Could not find a version that satisfies the requirement request (from versions: none)\u001b[0m\u001b[31m\n",
            "\u001b[0m\u001b[31mERROR: No matching distribution found for request\u001b[0m\u001b[31m\n",
            "\u001b[0m"
          ]
        }
      ]
    },
    {
      "cell_type": "markdown",
      "source": [
        "## 복습"
      ],
      "metadata": {
        "id": "mkJ-G8tMSgZf"
      }
    },
    {
      "cell_type": "code",
      "source": [
        "# Beutifulsout으로 Parsing하기\n",
        "from bs4 import BeautifulSoup\n",
        "\n",
        "html = \"\"\"\n",
        "<html>\n",
        "    <body>\n",
        "        <h1 id='title'>[1]크롤링이란?</h1>\n",
        "        <p class='cssstyle'>웹페이지에서 필요한 데이터를 추출하는 것</p>\n",
        "        <p id='body' align='center'>파이썬을 중심으로 다양한 웹크롤링 기술 발달</p>\n",
        "    </body>\n",
        "</html>\n",
        "\"\"\"\n",
        "\n",
        "soup = BeautifulSoup(html, \"html.parser\")\n",
        "title_data = soup.find('h1')# 태그로 검색 방법\n",
        "print(title_data)\n",
        "print(title_data.string)\n",
        "print(title_data.get_text())"
      ],
      "metadata": {
        "colab": {
          "base_uri": "https://localhost:8080/"
        },
        "id": "MLtV594mSskB",
        "outputId": "e317a477-5cf0-4419-da4c-28a9e129b4e1"
      },
      "execution_count": null,
      "outputs": [
        {
          "output_type": "stream",
          "name": "stdout",
          "text": [
            "<h1 id=\"title\">[1]크롤링이란?</h1>\n",
            "[1]크롤링이란?\n",
            "[1]크롤링이란?\n"
          ]
        }
      ]
    },
    {
      "cell_type": "code",
      "source": [
        "# 데이터 요청하기\n",
        "import requests\n",
        "from bs4 import BeautifulSoup\n",
        "\n",
        "url = 'https://search.naver.com/search.naver?sm=tab_hty.top&where=nexearch&query=%EC%84%9C%EC%B4%88AI&oquery=%EC%84%9C%EC%B4%88+%EB%A8%80&tqi=ic8RWdp0YidssKroiJKsssssthN-042430'\n",
        "\n",
        "response = requests.get(url)\n",
        "\n",
        "if response.status_code == 200:\n",
        "    html = response.text\n",
        "    soup = BeautifulSoup(html, 'html.parser')\n",
        "    print(soup.find_all('h1'))\n",
        "else : \n",
        "    print(response.status_code)"
      ],
      "metadata": {
        "colab": {
          "base_uri": "https://localhost:8080/"
        },
        "id": "VECVbnMnS4cm",
        "outputId": "08c0642c-0eca-4484-f06f-563ce5541e31"
      },
      "execution_count": null,
      "outputs": [
        {
          "output_type": "stream",
          "name": "stdout",
          "text": [
            "[<h1 class=\"logo\"><a class=\"link\" href=\"https://www.naver.com\" onclick=\"return goOtherCR(this, 'a=sta.naver&amp;r=&amp;i=&amp;u='+urlencode(this.href));\"><i class=\"spnew ico_logo\">NAVER</i></a></h1>, <h1 class=\"blind\">서초AI 통합검색 결과</h1>]\n"
          ]
        }
      ]
    },
    {
      "cell_type": "code",
      "source": [
        "# 원하는 데이터 고르기\n",
        "import requests\n",
        "from bs4 import BeautifulSoup\n",
        "\n",
        "url = 'https://kin.naver.com/search/list.nhn?query=%ED%8C%8C%EC%9D%B4%EC%8D%AC'\n",
        "\n",
        "response = requests.get(url)\n",
        "\n",
        "if response.status_code == 200:\n",
        "    html = response.text\n",
        "    soup = BeautifulSoup(html, 'html.parser')\n",
        "    \n",
        "    ul = soup.select_one('ul.basic1')\n",
        "    titles = ul.select('li > dl > dt > a')\n",
        "    for title in titles:\n",
        "        print(title.get_text())\n",
        "        # print(title)\n",
        "else : \n",
        "    print(response.status_code)"
      ],
      "metadata": {
        "colab": {
          "base_uri": "https://localhost:8080/"
        },
        "id": "r4pd9VumS92F",
        "outputId": "5f8d5754-fbba-4de8-c8ce-46ca2de12280"
      },
      "execution_count": null,
      "outputs": [
        {
          "output_type": "stream",
          "name": "stdout",
          "text": [
            "파이썬 공부중 \\n 질문드려요 ㅠㅠ\n",
            "파이썬 질문\n",
            "블렌더 파이썬\n",
            "파이썬 숙제 도와주세요 ㅠㅠ (채택 100%)\n",
            "파이썬 알려주세요\n",
            "파이썬 과제 도와주세요\n",
            "파이썬 질문\n",
            "pc파이썬 아두이노 시리얼통신 질문좀... \n",
            "파이썬 파일 생성\n",
            "파이썬 기초는 어떻게 공부하는게 좋나요?\n"
          ]
        }
      ]
    },
    {
      "cell_type": "markdown",
      "source": [
        "## 숙제"
      ],
      "metadata": {
        "id": "S0mjBV4STCo_"
      }
    },
    {
      "cell_type": "code",
      "source": [
        "import requests\n",
        "from bs4 import BeautifulSoup\n",
        "\n",
        "\n",
        "res = requests.get('http://media.daum.net/digital/')\n",
        "soup = BeautifulSoup(res.content, 'html.parser')\n",
        "\n",
        "\n",
        "# find_all() 메서드를 사용해서 태그와 클래스이름으로 링크가 걸려있는 기사 타이틀을 가져오기\n",
        "link_title = soup.find_all('a',class_='link_txt')\n",
        "print(len(link_title))\n",
        "# # 코드 작성\n",
        "# for num in range(len(link_title)):\n",
        "#     print(link_title[num].get_text().strip())"
      ],
      "metadata": {
        "colab": {
          "base_uri": "https://localhost:8080/"
        },
        "id": "E-ZgsJ8aS_vA",
        "outputId": "3f0cb025-d68f-4091-c9bd-7b763af4425f"
      },
      "execution_count": null,
      "outputs": [
        {
          "output_type": "stream",
          "name": "stdout",
          "text": [
            "38\n"
          ]
        }
      ]
    },
    {
      "cell_type": "markdown",
      "source": [
        "## URLOPEN"
      ],
      "metadata": {
        "id": "prt2U3z1TMhg"
      }
    },
    {
      "cell_type": "code",
      "source": [
        "# 모든 데이터 가져오기\n",
        "from urllib.request import urlopen\n",
        "from bs4 import BeautifulSoup\n",
        "\n",
        "html = urlopen(\"http://www.naver.com\")  \n",
        "bsObject = BeautifulSoup(html, \"html.parser\") \n",
        "\n",
        "print(bsObject) # 웹 문서 전체가 출력됩니다. "
      ],
      "metadata": {
        "id": "6ncAq-Q2TM40"
      },
      "execution_count": null,
      "outputs": []
    },
    {
      "cell_type": "code",
      "source": [
        "from urllib.request import urlopen\n",
        "from bs4 import BeautifulSoup\n",
        "\n",
        "html = urlopen(\"https://www.python.org/about\")\n",
        "bsObject = BeautifulSoup(html, \"html.parser\")\n",
        "\n",
        "\n",
        "for a in bsObject.find_all('a'):\n",
        "    if a.get('class') is not None:\n",
        "        print(a.get('class'))\n",
        "    # print()\n"
      ],
      "metadata": {
        "colab": {
          "base_uri": "https://localhost:8080/"
        },
        "id": "EmmHO9FiTxbI",
        "outputId": "545dcd8b-2586-46a1-be3e-8e05e93d551b"
      },
      "execution_count": null,
      "outputs": [
        {
          "output_type": "stream",
          "name": "stdout",
          "text": [
            "['jump-link']\n",
            "['current_branch', 'selected']\n",
            "['jump-link']\n",
            "['donate-button']\n",
            "['jump-to-menu']\n",
            "['action-trigger']\n",
            "['text-shrink']\n",
            "['text-grow']\n",
            "['text-reset']\n",
            "['action-trigger']\n",
            "['current_item', 'selected', 'selected']\n",
            "[]\n",
            "[]\n",
            "[]\n",
            "[]\n",
            "[]\n",
            "[]\n",
            "['readmore']\n",
            "['button']\n",
            "['button']\n",
            "['jump-link']\n",
            "['jump-link']\n"
          ]
        }
      ]
    },
    {
      "cell_type": "markdown",
      "source": [
        "## 자세한 Find 하기"
      ],
      "metadata": {
        "id": "155FTQDST1eU"
      }
    },
    {
      "cell_type": "code",
      "source": [
        "import requests\n",
        "from bs4 import BeautifulSoup\n",
        "from urllib.request import urlopen"
      ],
      "metadata": {
        "id": "TIza7-zJxHkD"
      },
      "execution_count": null,
      "outputs": []
    },
    {
      "cell_type": "code",
      "source": [
        "param = {\n",
        "    \"name\" : \"sm\",\n",
        "}"
      ],
      "metadata": {
        "id": "M8yPFp2fT0xk"
      },
      "execution_count": null,
      "outputs": []
    },
    {
      "cell_type": "code",
      "source": [
        "html = urlopen(\"https://www.naver.com\")\n",
        "bsObject = BeautifulSoup(html, \"html.parser\")"
      ],
      "metadata": {
        "id": "4UtsVS60plkv"
      },
      "execution_count": null,
      "outputs": []
    },
    {
      "cell_type": "code",
      "source": [
        "viewport = bsObject.find(\"input\",param)\n",
        "print(viewport)"
      ],
      "metadata": {
        "colab": {
          "base_uri": "https://localhost:8080/"
        },
        "id": "HAkYsjkrUAy-",
        "outputId": "b6b80556-8079-4949-881e-2279f3e5d07f"
      },
      "execution_count": null,
      "outputs": [
        {
          "output_type": "stream",
          "name": "stdout",
          "text": [
            "<input id=\"sm\" name=\"sm\" type=\"hidden\" value=\"top_hty\"/>\n"
          ]
        }
      ]
    },
    {
      "cell_type": "code",
      "source": [
        "print (bsObject.head.find(\"meta\", param))"
      ],
      "metadata": {
        "colab": {
          "base_uri": "https://localhost:8080/"
        },
        "id": "sL9vf9_8UG9X",
        "outputId": "c21cc9d2-55ea-460c-94ca-24959bdd7ee9"
      },
      "execution_count": null,
      "outputs": [
        {
          "output_type": "stream",
          "name": "stdout",
          "text": [
            "None\n"
          ]
        }
      ]
    },
    {
      "cell_type": "markdown",
      "source": [
        "연습 #1"
      ],
      "metadata": {
        "id": "OM14k-D8UQgq"
      }
    },
    {
      "cell_type": "code",
      "source": [
        "# 모든 링크의 텍스트 & 주소 가져오기\n",
        "# tag :a & href를 찾아보자\n",
        "\n",
        "from urllib.request import urlopen\n",
        "from bs4 import BeautifulSoup\n",
        "\n",
        "html = urlopen(\"https://news.daum.net/digital#2\")\n",
        "bs = BeautifulSoup(html, \"html.parser\")\n",
        "\n",
        "atags = bsObject.find_all('a')\n",
        "\n",
        "for a in atags:\n",
        "    href = a.get('href')\n",
        "    if 'https' in href:\n",
        "        print(a.text.strip())\n",
        "        print(a.get('href'))"
      ],
      "metadata": {
        "id": "u8QLGBbwUIqW"
      },
      "execution_count": null,
      "outputs": []
    },
    {
      "cell_type": "markdown",
      "source": [
        "연습 #2"
      ],
      "metadata": {
        "id": "csBsA7S7Vr51"
      }
    },
    {
      "cell_type": "code",
      "source": [
        "## https://music.bugs.co.kr/chart?wl_ref=M_left_02_01 : 다음 링크에서 음악 차트를 출력해보자\n",
        "from urllib.request import urlopen\n",
        "from bs4 import BeautifulSoup\n",
        "url = urlopen('https://music.bugs.co.kr/chart?wl_ref=M_left_02_01')\n",
        "soup = BeautifulSoup(url.read(), 'html.parser')\n",
        "\n",
        "# td 태그에 check라는 class가 있는 td 태그를 모두 가져온다.\n",
        "param = {\n",
        "    'class' : 'check'\n",
        "}\n",
        "musics = soup.find_all('td',param)\n",
        "\n",
        "# # musics의 각 태그들에 대해서 \n",
        "for i, music in enumerate(musics):\n",
        "    # input 태그안에 title 속성값을 parsing한다. \n",
        "    detail = music.input\n",
        "    title = detail.get('title')\n",
        "    print(i+1,title)"
      ],
      "metadata": {
        "colab": {
          "base_uri": "https://localhost:8080/"
        },
        "id": "Qk9Jg0fgUcnt",
        "outputId": "ba2ae068-3e64-4621-b6ef-5fcf67959d54"
      },
      "execution_count": null,
      "outputs": [
        {
          "output_type": "stream",
          "name": "stdout",
          "text": [
            "1 퀸카 (Queencard)\n",
            "2 Spicy\n",
            "3 I AM\n",
            "4 이브, 프시케 그리고 푸른 수염의 아내\n",
            "5 UNFORGIVEN (feat. Nile Rodgers)\n",
            "6 Kitsch\n",
            "7 Cupid\n",
            "8 Hype Boy\n",
            "9 손오공\n",
            "10 Ditto\n",
            "11 Thirsty\n",
            "12 KNOCK\n",
            "13 꽃\n",
            "14 OMG\n",
            "15 After LIKE\n",
            "16 Dangerously\n",
            "17 Allergy\n",
            "18 Attention\n",
            "19 Teddy Bear\n",
            "20 I Don’t Think That I Like Her\n",
            "21 헤어지자 말해요\n",
            "22 LOVE DIVE\n",
            "23 사건의 지평선\n",
            "24 파이팅 해야지 (Feat. 이영지)\n",
            "25 건물 사이에 피어난 장미 (Rose Blossom)\n",
            "26 ANTIFRAGILE\n",
            "27 Wasteland\n",
            "28 When I Get Old\n",
            "29 Cupid (Twin Ver.)\n",
            "30 한 페이지가 될 수 있게\n",
            "31 Salty & Sweet\n",
            "32 INVU\n",
            "33 Love Me Like This\n",
            "34 Shut Down\n",
            "35 That’s Not How This Works (feat. Dan + Shay)\n",
            "36 찬란한 하루\n",
            "37 빛이 나는 너에게\n",
            "38 심(心)\n",
            "39 오르트구름\n",
            "40 That's Hilarious\n",
            "41 Heaven(2023)\n",
            "42 그라데이션\n",
            "43 잠깐 시간 될까\n",
            "44 사랑인가 봐\n",
            "45 STAY\n",
            "46 CHRISTIAN\n",
            "47 FEARLESS\n",
            "48 나의 바람 (Wind And Wish)\n",
            "49 물론\n",
            "50 Pink Venom\n",
            "51 TOMBOY\n",
            "52 VIBE (feat. Jimin of BTS)\n",
            "53 너의 모든 순간\n",
            "54 ELEVEN\n",
            "55 모든 날, 모든 순간 (Every day, Every Moment)\n",
            "56 한강에서 (Feat. BIG Naughty)\n",
            "57 정이라고 하자 (Feat. 10CM)\n",
            "58 다정히 내 이름을 부르면\n",
            "59 나의 X에게\n",
            "60 사랑은 늘 도망가\n",
            "61 Poppy (Korean Ver.)\n",
            "62 Cookie\n",
            "63 Dynamite\n",
            "64 도깨비불 (Illusion)\n",
            "65 부동의 첫사랑\n",
            "66 Feel My Rhythm\n",
            "67 Candy (Feat. Zion.T)\n",
            "68 FRIEND THE END\n",
            "69 Nxde\n",
            "70 그때 그 순간 그대로 (그그그)\n",
            "71 내가 아니라도\n",
            "72 Candy\n",
            "73 하얀 사막\n",
            "74 WHEN I MOVE\n",
            "75 해요 (2022)\n",
            "76 사실말야내가말야그게그러니까말이야\n",
            "77 드라마\n",
            "78 취중고백\n",
            "79 Say I Love You\n",
            "80 특\n",
            "81 Rush Hour (Feat. j-hope of BTS)\n",
            "82 Monologue\n",
            "83 동행\n",
            "84 새삥 (Prod. ZICO) (Feat. 호미들)\n",
            "85 딱 10CM만\n",
            "86 주저하는 연인들을 위해\n",
            "87 Il Fuggitivo\n",
            "88 Off My Face\n",
            "89 봄여름가을겨울 (Still Life)\n",
            "90 사랑..그게 뭔데\n",
            "91 strawberry moon\n",
            "92 Unholy\n",
            "93 Pieces\n",
            "94 Nostalgia\n",
            "95 밤이 무서워요 (Lonely Night)\n",
            "96 Perfume\n",
            "97 LOVE me\n",
            "98 나의 마음에 (Seed)\n",
            "99 혼자라고 생각말기\n",
            "100 NOT SORRY (Feat. pH-1) (Prod. by Slom)\n"
          ]
        }
      ]
    },
    {
      "cell_type": "code",
      "source": [],
      "metadata": {
        "id": "2L4PPEmjzeSq"
      },
      "execution_count": null,
      "outputs": []
    }
  ]
}